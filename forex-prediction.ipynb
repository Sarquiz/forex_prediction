{
 "cells": [
  {
   "cell_type": "markdown",
   "metadata": {},
   "source": [
    "# Tiempo de Prediccion Financiera, en Series tiempo de data con Machine Learning\n",
    "\n",
    "    Este es un Ejemplo que predice los precios de futuro desde  los movimientos de precio pasados, aqui implentaremos con un ejemplo de tasa EUR/USD, pero podemos convertirlo a precios de stock por la edicion de los simbolos. "
   ]
  },
  {
   "cell_type": "code",
   "execution_count": null,
   "metadata": {},
   "outputs": [],
   "source": [
    "import datetime\n",
    "import numpy as np\n",
    "import pandas as pd\n",
    "from matplotlib.finance import quotes_historical_yahoo_ochl\n",
    "import matplotlib.pyplot as plt\n",
    "import seaborn as sns\n",
    "from IPython.core.display import display\n",
    "%matplotlib inline\n",
    "\n",
    "print(\"Setup Complete\")"
   ]
  },
  {
   "cell_type": "code",
   "execution_count": null,
   "metadata": {},
   "outputs": [],
   "source": [
    "#time period\n",
    "d1 = datatime.datatime(2008, 1, 1)\n",
    "d2 = datatime.datatime(2016, 12, 31)\n",
    "\n",
    "#Fetching data from yahoo finance\n",
    "#List of Symbols: http://finance.yahoo.com/webservice/v1/symbols/allcurrencies/quotes\n",
    "q = quotes_historical_yahoo_ochl('EUR=X', d1, d2, asobject=True)\n"
   ]
  },
  {
   "cell_type": "code",
   "execution_count": null,
   "metadata": {},
   "outputs": [],
   "source": [
    "#Put data into Pandas DataFrame\n",
    "df = pd.DataFrame(q)\n",
    "df.drop(['year', 'month', 'day', 'd'], inplace=True, axis=1)\n",
    "df[['open', 'high', 'low', 'close', 'aclose']] = df[['open', 'high', 'low', 'close', 'aclose']].applymap(lambda x: 1.0/x)\n",
    "display(df.head())\n",
    "df.plot(x='date', y='aclose', figsize=(10,4))"
   ]
  },
  {
   "cell_type": "code",
   "execution_count": null,
   "metadata": {},
   "outputs": [],
   "source": [
    "#Normalize aclose value\n",
    "#We use this value to train model\n",
    "\n",
    "df['return'] = df['aclose'] - df['aclose'].shift(1)\n",
    "return_range = df['return'].max() - df['return'].min()\n",
    "df['return'] = df['return'] / return_range\n",
    "df.plot(x='date', y='return', figsize=(10,4))"
   ]
  },
  {
   "cell_type": "code",
   "execution_count": null,
   "metadata": {},
   "outputs": [],
   "source": [
    "#Make label, 1 as rising price, 0 as falling price\n",
    "df['label'] = df['return'].shift(-1)\n",
    "df['label'] = df['label'].apply(lambda x: 1 if x>0.0 else 0)\n",
    "\n",
    "#df.dropna(inplace=True)\n",
    "df.tail()"
   ]
  },
  {
   "cell_type": "code",
   "execution_count": null,
   "metadata": {},
   "outputs": [],
   "source": [
    "#Make training dataset\n",
    "n_features = 60  #number of features\n",
    "\n",
    "train_x = np.array([]).reshape([-1, n_features])\n",
    "train_y = np.array([]).reshape([-1,1])\n",
    "for index, row in df.iterrows():\n",
    "    i = df.index.get_loc(index)\n",
    "    if i<n_features:\n",
    "        continue\n",
    "        \n",
    "    _x = np.array(df[i-n_features+1:i+1] ['return']).T.reshape([1, -1])\n",
    "    _y = df.ix[i]['label']\n",
    "    train_x = np.vstack((train_x, _x))\n",
    "    train_y = np.vstack((train_y, _y))\n",
    "\n",
    "train_y =   train_y.reshape([-1])\n",
    "print(train_x.shape)\n",
    "print(train_y.shape)\n",
    "print('%% of Class0 : %f' % (np.count_nonzero(train_y == 0)/float(len(train_y))))\n",
    "print('%% of Class0 : %f' % (np.count_nonzero(train_y == 1)/float(len(train_y))))"
   ]
  },
  {
   "cell_type": "code",
   "execution_count": null,
   "metadata": {},
   "outputs": [],
   "source": [
    "#Define Model and fit\n",
    "#Here we use 95% of data for trining, and last 5% for testing\n",
    "\n",
    "from sklearn.ensemble import GradientBoostingClassifier\n",
    "clf = GradientBoostingClassifier(random_state=0, learning_rate=0.01, n_estimators=10000)\n",
    "\n",
    "train_len = int(len(train_x)*0.95)\n",
    "clf.fit(train_x[:train_len], train_y[:train_len])\n",
    "\n",
    "accuracy = clf.score(train_x[train_len:], train_y[train_len:])\n",
    "print('Testing Accuracy: %f' %accuracy)"
   ]
  },
  {
   "cell_type": "code",
   "execution_count": null,
   "metadata": {},
   "outputs": [],
   "source": [
    "#Predict test data\n",
    "pred = clf.predict(train_x[train_len:])\n",
    "\n",
    "#Calculate equity..\n",
    "contracts = 10000.0\n",
    "commission = 0.0\n",
    "\n",
    "df_trade = pd.DataFrame(train_x[train_len:,-1], columns=['return'])\n",
    "df_trade['label'] = train_y[train_len:]\n",
    "df_trade['pred']  = pred\n",
    "df_trade['won']   = df_trade['label']== df_trade['pred']\n",
    "df_trade['return'] = df_trade['return'].shift(-1) * return_range\n",
    "df_trade.drop(df_trade.index[len(df_trade)-1], inplace=True)\n",
    "\n",
    "def calc_profit(row):\n",
    "    if row['won']:\n",
    "        return abs(row['return'])*contracts - commission\n",
    "    else:\n",
    "        return - abs(row['return'])*contracts - commission\n",
    "    \n",
    "df_trade['pnl'] = df_trade.apply(lambda row: calc_profit(row), axis=1)\n",
    "df_trade['equity'] = df_trade['pnl'].cumsum()\n",
    "\n",
    "display(df_trade.tail())\n",
    "df_trade.plot(y='equity', figsize=(10,4), title='Backtest with $10000 initial capital')\n",
    "plt.xlabel('Trades')\n",
    "plt.labels('Equity (USD)')\n",
    "for r in df_trade.iterrows():\n",
    "    if r[1]['won']:\n",
    "        plt.axvline(x=r[0], linewidth=0.5, alpha=0.8, color='g')\n",
    "        else:\n",
    "            plt.axvline(x=r[0], linewidth=0.5, alpha=0.8, color='r')"
   ]
  },
  {
   "cell_type": "code",
   "execution_count": null,
   "metadata": {},
   "outputs": [],
   "source": [
    "#Calculate summary of trades\n",
    "\n",
    "n_win_trades = float(df_trade[df_trade['pnl']>0.0]['pnl'].count())\n",
    "n_loss_trades = float(df_trade[df_trade['pnl']<0.0]['pnl'].count()) \n",
    "\n",
    "print(\"Net Profit             :$%.2f\" % df_trade.tail(1)['equity'])\n",
    "print(\"Number Winning Trades  :%d\" % n_win_trades)\n",
    "print(\"Number Losing Trades   :%d\" % n_loss_trades)\n",
    "print(\"Percent Profitable     :%.2f%%\" %(100 * n_win_trades/(n_win_trades + n_loss_trades)))\n",
    "print(\"Avg Win Trade          :$%.3f\" % df_trade[df_trade['pnl']>0.0]['pnl'].mean())\n",
    "print(\"Avg Loss Trade         :$%.3f\" % df_trade[df_trade['pnl']<0.0]['pnl'].mean())\n",
    "print(\"Largest Win Trade      :$%.3f\" % df_trade[df_trade['pnl']>0.0]['pnl'].max())\n",
    "print(\"Largest Loss Trade     :$%.3f\" % df_trade[df_trade['pnl']<0.0]['pnl'].min())\n",
    "print(\"Profit Factor          :%.2f\" % abs(df_trade[df_trade['pnl']<0.0]['pnl'].sum()/df_trade[df_trade['pnl']<0.0]['pnl'].sum()))\n",
    "\n",
    "df_trade['pnl'].hist(bins=20)\n"
   ]
  },
  {
   "cell_type": "code",
   "execution_count": null,
   "metadata": {},
   "outputs": [],
   "source": []
  }
 ],
 "metadata": {
  "kernelspec": {
   "display_name": "Python 3",
   "language": "python",
   "name": "python3"
  },
  "language_info": {
   "codemirror_mode": {
    "name": "ipython",
    "version": 3
   },
   "file_extension": ".py",
   "mimetype": "text/x-python",
   "name": "python",
   "nbconvert_exporter": "python",
   "pygments_lexer": "ipython3",
   "version": "3.8.5"
  }
 },
 "nbformat": 4,
 "nbformat_minor": 4
}
